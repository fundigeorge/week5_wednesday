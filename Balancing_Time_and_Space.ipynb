{
  "nbformat": 4,
  "nbformat_minor": 0,
  "metadata": {
    "colab": {
      "provenance": [],
      "collapsed_sections": [
        "8elnrLMUfTLq",
        "GNY-75yTfUYa",
        "dSJ4BtT-BnTe"
      ],
      "toc_visible": true
    },
    "kernelspec": {
      "name": "python3",
      "display_name": "Python 3"
    },
    "language_info": {
      "name": "python"
    }
  },
  "cells": [
    {
      "cell_type": "markdown",
      "metadata": {
        "id": "8elnrLMUfTLq"
      },
      "source": [
        "# Practice Notebook: Balancing Time and Space"
      ]
    },
    {
      "cell_type": "markdown",
      "metadata": {
        "id": "GNY-75yTfUYa"
      },
      "source": [
        "## Question"
      ]
    },
    {
      "cell_type": "markdown",
      "metadata": {
        "id": "T7RwK6wEfVuY"
      },
      "source": [
        "Let's implement the third solution.\n",
        "\n",
        "1. Define a function `find_sums_balanced()` that take as input `values` and `target_sums`. Inside the body of the function, do the following steps.\n",
        "2. Create a variable `value_set` whose value results from converting the values list into a set. You can use the `set()` built-in function to do this.\n",
        "3. Initialize an empty dictionary named `sums`.\n",
        "4. Do a `for` loop with a variable named target to iterate over the targets `list`. For each target do:\n",
        "* Set `sums[target]` to False.\n",
        "* Do a `for` loop over `values` list using a variable named `value1`. For each value1:\n",
        "a) Assign the difference between `target` and `value1` to a variable named `value2`.\n",
        "b) Use the in operator to check whether value2 belongs to value_set.\n",
        "c) If it does, assign `True` to `sums[target]`.\n",
        "5. Outside of the `for` loops, return the `sums` and the `value_set` variables. Note that we ask for the `value_set` variable just for answer checking purposes.\n",
        "6. Test your function on the provided input and print the result.\n",
        "\n",
        "\n",
        "**Hints**\n",
        "* Your solution should have two `for` loops.\n",
        "* You can return multiple variables by separating them by commas in the return statement: `return a, b`.\n",
        "* You can convert a list `my_list` into a set by doing `my_set = set(my_list)`."
      ]
    },
    {
      "cell_type": "code",
      "source": [
        "# Provided input\n",
        "test_values = [1, 2, 5]\n",
        "test_targets = [2, 3, 7, 8]      \n",
        "# Expected output:\n",
        "# {2: True, 3: True, 7: True, 8: False}\n",
        "\n",
        "# Write your code below\n",
        "def find_sums(values, target_sums):\n",
        "    sums = {}\n",
        "    for target in target_sums:\n",
        "        sums[target] = False\n",
        "        for i in range(len(values)):\n",
        "            for j in range(i, len(values)):\n",
        "                if values[i] + values[j] == target:\n",
        "                    sums[target] = True\n",
        "    return sums\n",
        "\n",
        "print(find_sums(test_values, test_targets))\n",
        "\n",
        "test_values = [1, 2, 5]\n",
        "test_targets = [2, 3, 7, 8]      \n",
        "# Expected output: \n",
        "# ({2: True, 3: True, 7: True, 8: False}, {2, 3, 4, 6, 7, 10})\n",
        "\n",
        "# Write your code below\n",
        "def find_sums_precompute(values, target_sums):\n",
        "    possible_sums = set()\n",
        "    for i in range(len(values)):\n",
        "        for j in range(i, len(values)):\n",
        "            possible_sums.add(values[i] + values[j])\n",
        "    sums = {}\n",
        "    for target in target_sums:\n",
        "        sums[target] = target in possible_sums\n",
        "    return sums, possible_sums\n",
        "\n",
        "print(find_sums_precompute(test_values, test_targets))"
      ],
      "metadata": {
        "id": "yUnuxgxhGTUx",
        "outputId": "34b9d3cb-18ec-40c0-e118-ba00d8d47d92",
        "colab": {
          "base_uri": "https://localhost:8080/"
        }
      },
      "execution_count": null,
      "outputs": [
        {
          "output_type": "stream",
          "name": "stdout",
          "text": [
            "{2: True, 3: True, 7: True, 8: False}\n",
            "({2: True, 3: True, 7: True, 8: False}, {2, 3, 4, 6, 7, 10})\n"
          ]
        }
      ]
    },
    {
      "cell_type": "code",
      "metadata": {
        "id": "xcVT4EPlfP7B",
        "outputId": "4e0c465c-549c-449a-d7b9-c1f269f9c6fc",
        "colab": {
          "base_uri": "https://localhost:8080/"
        }
      },
      "source": [
        "# Challenge \n",
        "# ---\n",
        "# \n",
        "\n",
        "# Provided input\n",
        "test_values = [1, 2, 5]\n",
        "test_targets = [2, 3, 7, 8]      \n",
        "# Expected output: \n",
        "# ({2: True, 3: True, 7: True, 8: False}, {1, 2, 5})\n",
        "\n",
        "# Write your code below\n",
        "def find_sums_bal(test_targets, test_values):\n",
        "  value_set =set(test_values)\n",
        "  sums = {}\n",
        "  for target in test_targets:\n",
        "    sums[target] = False\n",
        "    for i in range(len(test_values)):\n",
        "      if (target - test_values[i]) in value_set:\n",
        "        sums[target] = True\n",
        "  return sums\n",
        "  \n",
        "print(find_sums_bal(test_targets, test_values))"
      ],
      "execution_count": null,
      "outputs": [
        {
          "output_type": "stream",
          "name": "stdout",
          "text": [
            "{2: True, 3: True, 7: True, 8: False}\n"
          ]
        }
      ]
    },
    {
      "cell_type": "markdown",
      "metadata": {
        "id": "dSJ4BtT-BnTe"
      },
      "source": [
        "### Solution"
      ]
    },
    {
      "cell_type": "code",
      "metadata": {
        "colab": {
          "base_uri": "https://localhost:8080/"
        },
        "id": "iCO_1YinBmbO",
        "outputId": "ea5e6914-6f7c-45c7-b95a-7bfd936cf2c9"
      },
      "source": [
        "# Provided input\n",
        "test_values = [1, 2, 5]\n",
        "test_targets = [2, 3, 7, 8]      \n",
        "# Expected output: \n",
        "# ({2: True, 3: True, 7: True, 8: False}, {1, 2, 5})\n",
        "\n",
        "# Write your code below\n",
        "def find_sums_balanced(values, target_sums):\n",
        "    value_set = set(values)\n",
        "    sums = {}\n",
        "    for target in target_sums:\n",
        "        sums[target] = False\n",
        "        for value1 in values:\n",
        "            value2 = target - value1\n",
        "            if value2 in value_set:\n",
        "                sums[target] = True\n",
        "    return sums, value_set\n",
        "\n",
        "print(find_sums_balanced(test_values, test_targets))"
      ],
      "execution_count": null,
      "outputs": [
        {
          "output_type": "stream",
          "name": "stdout",
          "text": [
            "({2: True, 3: True, 7: True, 8: False}, {1, 2, 5})\n"
          ]
        }
      ]
    },
    {
      "cell_type": "code",
      "source": [
        "import matplotlib.pyplot as plt\n",
        "def select_minimum_index_in_range(values, range_start):\n",
        "  minimum_value = None\n",
        "  minimum_value_index = None\n",
        "  N = len(values)\n",
        "  for i in range(range_start, N):\n",
        "    if (minimum_value == None or values[i] < minimum_value):\n",
        "      minimum_value = values[i]\n",
        "      minimum_value_index = i\n",
        "  \n",
        "  return minimum_value_index\n",
        "def swap(values, i, j):\n",
        "    temp = values[i]\n",
        "    values[i] = values[j]\n",
        "    values[j] = temp\n",
        "\n",
        "def plot_times(times_python, times_selection):\n",
        "    plt.plot(times_python, label='time sorted()')\n",
        "    plt.plot(times_selection, label='time selection_sort()')\n",
        "    plt.ylabel('runtime')\n",
        "    plt.xlabel('N')\n",
        "    plt.legend()\n",
        "    plt.show()\n",
        "    \n",
        "def selection_sort(values):\n",
        "    N = len(values)\n",
        "    for range_start in range(N):\n",
        "        index = select_minimum_index_in_range(values, range_start)\n",
        "        swap(values, range_start, index)\n",
        "\n",
        "# Write your code below\n",
        "import time\n",
        "import random\n",
        "\n",
        "times_python = []\n",
        "times_selection = []\n",
        "for N in range(1, 501):\n",
        "    values = rnd_values = [random.randint(1, 10000) for _ in range(N)]\n",
        "    # measure python sorted() time\n",
        "    start = time.time()\n",
        "    sorted(values)\n",
        "    end = time.time()\n",
        "    times_python.append(end - start)\n",
        "    # measure selection_sort() time\n",
        "    start = time.time()\n",
        "    selection_sort(values)\n",
        "    end = time.time()\n",
        "    times_selection.append(end - start)\n",
        "plot_times(times_python, times_selection)"
      ],
      "metadata": {
        "id": "p-0VPZ7YGh9H"
      },
      "execution_count": null,
      "outputs": []
    }
  ]
}